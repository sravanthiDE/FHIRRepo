{
 "cells": [
  {
   "cell_type": "markdown",
   "metadata": {
    "application/vnd.databricks.v1+cell": {
     "cellMetadata": {},
     "inputWidgets": {},
     "nuid": "748e1b48-9ad4-4b03-9262-9290d2045296",
     "showTitle": false,
     "tableResultSettingsMap": {},
     "title": ""
    }
   },
   "source": [
    "install libraries"
   ]
  },
  {
   "cell_type": "code",
   "execution_count": 0,
   "metadata": {
    "application/vnd.databricks.v1+cell": {
     "cellMetadata": {},
     "inputWidgets": {},
     "nuid": "7aa58b73-c63a-4b47-afbb-0f56b7f9c219",
     "showTitle": false,
     "tableResultSettingsMap": {},
     "title": ""
    }
   },
   "outputs": [],
   "source": [
    "\n",
    "%pip install requests azure-storage-blob"
   ]
  },
  {
   "cell_type": "code",
   "execution_count": 0,
   "metadata": {
    "application/vnd.databricks.v1+cell": {
     "cellMetadata": {},
     "inputWidgets": {},
     "nuid": "c2420d83-5fdb-4f5c-931a-a3dfdafc8852",
     "showTitle": false,
     "tableResultSettingsMap": {},
     "title": ""
    }
   },
   "outputs": [],
   "source": [
    "Note: you may need to restart the kernel using dbutils.library.restartPython() to use updated packages.\n",
    "Requirement already satisfied: requests in /databricks/python3/lib/python3.10/site-packages (2.28.1)\n",
    "Collecting azure-storage-blob\n",
    "  Downloading azure_storage_blob-12.25.1-py3-none-any.whl (406 kB)\n",
    "     ━━━━━━━━━━━━━━━━━━━━━━━━━━━━━━━━━━━━━━━ 407.0/407.0 kB 8.0 MB/s eta 0:00:00\n",
    "Requirement already satisfied: certifi>=2017.4.17 in /databricks/python3/lib/python3.10/site-packages (from requests) (2022.12.7)\n",
    "Requirement already satisfied: urllib3<1.27,>=1.21.1 in /databricks/python3/lib/python3.10/site-packages (from requests) (1.26.14)\n",
    "Requirement already satisfied: idna<4,>=2.5 in /databricks/python3/lib/python3.10/site-packages (from requests) (3.4)\n",
    "Requirement already satisfied: charset-normalizer<3,>=2 in /databricks/python3/lib/python3.10/site-packages (from requests) (2.0.4)\n",
    "Collecting azure-core>=1.30.0\n",
    "  Downloading azure_core-1.35.0-py3-none-any.whl (210 kB)\n",
    "     ━━━━━━━━━━━━━━━━━━━━━━━━━━━━━━━━━━━━━━ 210.7/210.7 kB 20.5 MB/s eta 0:00:00\n",
    "Collecting isodate>=0.6.1\n",
    "  Downloading isodate-0.7.2-py3-none-any.whl (22 kB)\n",
    "Collecting typing-extensions>=4.6.0\n",
    "  Downloading typing_extensions-4.14.1-py3-none-any.whl (43 kB)\n",
    "     ━━━━━━━━━━━━━━━━━━━━━━━━━━━━━━━━━━━━━━━━ 43.9/43.9 kB 6.7 MB/s eta 0:00:00\n",
    "Requirement already satisfied: cryptography>=2.1.4 in /databricks/python3/lib/python3.10/site-packages (from azure-storage-blob) (39.0.1)\n",
    "Requirement already satisfied: six>=1.11.0 in /usr/lib/python3/dist-packages (from azure-core>=1.30.0->azure-storage-blob) (1.16.0)\n",
    "Requirement already satisfied: cffi>=1.12 in /databricks/python3/lib/python3.10/site-packages (from cryptography>=2.1.4->azure-storage-blob) (1.15.1)\n",
    "Requirement already satisfied: pycparser in /databricks/python3/lib/python3.10/site-packages (from cffi>=1.12->cryptography>=2.1.4->azure-storage-blob) (2.21)\n",
    "Installing collected packages: typing-extensions, isodate, azure-core, azure-storage-blob\n",
    "  Attempting uninstall: typing-extensions\n",
    "    Found existing installation: typing_extensions 4.4.0\n",
    "    Not uninstalling typing-extensions at /databricks/python3/lib/python3.10/site-packages, outside environment /local_disk0/.ephemeral_nfs/envs/pythonEnv-c0bf1888-8bc4-4aad-a8e9-7a9efd289a9f\n",
    "    Can't uninstall 'typing_extensions'. No files were found to uninstall.\n",
    "Successfully installed azure-core-1.35.0 azure-storage-blob-12.25.1 isodate-0.7.2 typing-extensions-4.14.1\n",
    "Note: you may need to restart the kernel using dbutils.library.restartPython() to use updated packages."
   ]
  },
  {
   "cell_type": "code",
   "execution_count": 0,
   "metadata": {
    "application/vnd.databricks.v1+cell": {
     "cellMetadata": {},
     "inputWidgets": {},
     "nuid": "575b37f2-b134-45d3-bd1e-a4fa7850ca69",
     "showTitle": false,
     "tableResultSettingsMap": {},
     "title": ""
    }
   },
   "outputs": [],
   "source": [
    "dbutils.library.restartPython()"
   ]
  },
  {
   "cell_type": "code",
   "execution_count": 0,
   "metadata": {
    "application/vnd.databricks.v1+cell": {
     "cellMetadata": {},
     "inputWidgets": {},
     "nuid": "16b89be9-5786-4ba1-b1d8-7cbee03d9ca3",
     "showTitle": false,
     "tableResultSettingsMap": {},
     "title": ""
    }
   },
   "outputs": [],
   "source": [
    "API_URL = \"https://api.restful-api.dev/objects\"\n",
    "AZURE_CONNECTION_STRING = \"\"\n",
    "CONTAINER_NAME = \"api-container\"\n",
    "BLOB_PREFIX = \"api_data\"\n",
    "HEADERS = {\n",
    "    \"Accept\": \"application/json\",\n",
    "    # \"Authorization\": \"Bearer YOUR_TOKEN\"\n",
    "}\n",
    "\n",
    "     "
   ]
  },
  {
   "cell_type": "markdown",
   "metadata": {
    "application/vnd.databricks.v1+cell": {
     "cellMetadata": {},
     "inputWidgets": {},
     "nuid": "0393eb8a-0d7d-48b4-a9de-e96403351b76",
     "showTitle": false,
     "tableResultSettingsMap": {},
     "title": ""
    }
   },
   "source": [
    "call API"
   ]
  },
  {
   "cell_type": "code",
   "execution_count": 0,
   "metadata": {
    "application/vnd.databricks.v1+cell": {
     "cellMetadata": {},
     "inputWidgets": {},
     "nuid": "08b6afed-492d-4b74-9b09-65b09a795078",
     "showTitle": false,
     "tableResultSettingsMap": {},
     "title": ""
    }
   },
   "outputs": [],
   "source": [
    "import requests\n",
    "import json\n",
    "\n",
    "response = requests.get(API_URL, headers=HEADERS)\n",
    "response.raise_for_status()\n",
    "data = response.json()\n",
    "print(\"Sample data:\", json.dumps(data, indent=2)[:1000])\n"
   ]
  },
  {
   "cell_type": "code",
   "execution_count": 0,
   "metadata": {
    "application/vnd.databricks.v1+cell": {
     "cellMetadata": {},
     "inputWidgets": {},
     "nuid": "98ee6d7c-3e56-4605-bf82-d0073cb9803f",
     "showTitle": false,
     "tableResultSettingsMap": {},
     "title": ""
    }
   },
   "outputs": [],
   "source": [
    "Sample data: [\n",
    "  {\n",
    "    \"id\": \"1\",\n",
    "    \"name\": \"Google Pixel 6 Pro\",\n",
    "    \"data\": {\n",
    "      \"color\": \"Cloudy White\",\n",
    "      \"capacity\": \"128 GB\"\n",
    "    }\n",
    "  },\n",
    "  {\n",
    "    \"id\": \"2\",\n",
    "    \"name\": \"Apple iPhone 12 Mini, 256GB, Blue\",\n",
    "    \"data\": null\n",
    "  },\n",
    "  {\n",
    "    \"id\": \"3\",\n",
    "    \"name\": \"Apple iPhone 12 Pro Max\",\n",
    "    \"data\": {\n",
    "      \"color\": \"Cloudy White\",\n",
    "      \"capacity GB\": 512\n",
    "    }\n",
    "  },\n",
    "  {\n",
    "    \"id\": \"4\",\n",
    "    \"name\": \"Apple iPhone 11, 64GB\",\n",
    "    \"data\": {\n",
    "      \"price\": 389.99,\n",
    "      \"color\": \"Purple\"\n",
    "    }\n",
    "  },\n",
    "  {\n",
    "    \"id\": \"5\",\n",
    "    \"name\": \"Samsung Galaxy Z Fold2\",\n",
    "    \"data\": {\n",
    "      \"price\": 689.99,\n",
    "      \"color\": \"Brown\"\n",
    "    }\n",
    "  },\n",
    "  {\n",
    "    \"id\": \"6\",\n",
    "    \"name\": \"Apple AirPods\",\n",
    "    \"data\": {\n",
    "      \"generation\": \"3rd\",\n",
    "      \"price\": 120\n",
    "    }\n",
    "  },\n",
    "  {\n",
    "    \"id\": \"7\",\n",
    "    \"name\": \"Apple MacBook Pro 16\",\n",
    "    \"data\": {\n",
    "      \"year\": 2019,\n",
    "      \"price\": 1849.99,\n",
    "      \"CPU model\": \"Intel Core i9\",\n",
    "      \"Hard disk size\": \"1 TB\"\n",
    "    }\n",
    "  },\n",
    "  {\n",
    "    \"id\": \"8\",\n",
    "    \"name\": \"Apple Watch Series 8\",\n",
    "    \"data\": "
   ]
  },
  {
   "cell_type": "markdown",
   "metadata": {
    "application/vnd.databricks.v1+cell": {
     "cellMetadata": {},
     "inputWidgets": {},
     "nuid": "d3e3a28c-95ed-4e01-95b0-e0fb275de0a3",
     "showTitle": false,
     "tableResultSettingsMap": {},
     "title": ""
    }
   },
   "source": [
    "upload to blob"
   ]
  },
  {
   "cell_type": "code",
   "execution_count": 0,
   "metadata": {
    "application/vnd.databricks.v1+cell": {
     "cellMetadata": {},
     "inputWidgets": {},
     "nuid": "61fc31ac-2ee1-4c5c-ac18-77ddf6751d8d",
     "showTitle": false,
     "tableResultSettingsMap": {},
     "title": ""
    }
   },
   "outputs": [],
   "source": [
    "from azure.storage.blob import BlobServiceClient\n",
    "from datetime import datetime\n",
    "import io\n",
    "\n",
    "blob_service_client = BlobServiceClient.from_connection_string(AZURE_CONNECTION_STRING)\n",
    "\n",
    "timestamp = datetime.utcnow().strftime(\"%Y%m%d%H%M%S\")\n",
    "blob_name = f\"raw/{BLOB_PREFIX}_{timestamp}.json\"\n",
    "\n",
    "json_string = json.dumps(data, indent=2)\n",
    "blob_client = blob_service_client.get_blob_client(container=fhir_dir, blob=blob_name)\n",
    "blob_client.upload_blob(io.BytesIO(json_string.encode()), overwrite=True)\n",
    "\n",
    "print(f\"Uploaded to Azure Blob Storage: {CONTAINER_NAME}/{blob_name}\")"
   ]
  },
  {
   "cell_type": "code",
   "execution_count": 0,
   "metadata": {
    "application/vnd.databricks.v1+cell": {
     "cellMetadata": {},
     "inputWidgets": {},
     "nuid": "adbc73f5-56d0-4e89-9681-b8c3a8c3b284",
     "showTitle": false,
     "tableResultSettingsMap": {},
     "title": ""
    }
   },
   "outputs": [],
   "source": [
    "Uploaded to Azure Blob Storage: api-container/raw/api_data_20250713153031.json"
   ]
  }
 ],
 "metadata": {
  "application/vnd.databricks.v1+notebook": {
   "computePreferences": null,
   "dashboards": [],
   "environmentMetadata": {
    "base_environment": "",
    "environment_version": "2"
   },
   "inputWidgetPreferences": null,
   "language": "python",
   "notebookMetadata": {
    "pythonIndentUnit": 4
   },
   "notebookName": "Call API",
   "widgets": {}
  },
  "language_info": {
   "name": "python"
  }
 },
 "nbformat": 4,
 "nbformat_minor": 0
}
